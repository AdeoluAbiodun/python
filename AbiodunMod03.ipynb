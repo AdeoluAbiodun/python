{
  "nbformat": 4,
  "nbformat_minor": 0,
  "metadata": {
    "colab": {
      "provenance": []
    },
    "kernelspec": {
      "name": "python3",
      "display_name": "Python 3"
    },
    "language_info": {
      "name": "python"
    }
  },
  "cells": [
    {
      "cell_type": "code",
      "execution_count": 6,
      "metadata": {
        "colab": {
          "base_uri": "https://localhost:8080/"
        },
        "id": "AzqhyN7VwExr",
        "outputId": "09146a6e-52b2-4bbe-ba9b-802f45b903f3"
      },
      "outputs": [
        {
          "output_type": "stream",
          "name": "stdout",
          "text": [
            "Epoch 1/10\n"
          ]
        },
        {
          "output_type": "stream",
          "name": "stderr",
          "text": [
            "/usr/local/lib/python3.11/dist-packages/keras/src/layers/core/dense.py:87: UserWarning: Do not pass an `input_shape`/`input_dim` argument to a layer. When using Sequential models, prefer using an `Input(shape)` object as the first layer in the model instead.\n",
            "  super().__init__(activity_regularizer=activity_regularizer, **kwargs)\n"
          ]
        },
        {
          "output_type": "stream",
          "name": "stdout",
          "text": [
            "\u001b[1m25/25\u001b[0m \u001b[32m━━━━━━━━━━━━━━━━━━━━\u001b[0m\u001b[37m\u001b[0m \u001b[1m2s\u001b[0m 21ms/step - accuracy: 0.4985 - loss: 0.6879 - val_accuracy: 0.9350 - val_loss: 0.5051\n",
            "Epoch 2/10\n",
            "\u001b[1m25/25\u001b[0m \u001b[32m━━━━━━━━━━━━━━━━━━━━\u001b[0m\u001b[37m\u001b[0m \u001b[1m0s\u001b[0m 11ms/step - accuracy: 0.9290 - loss: 0.4543 - val_accuracy: 0.9350 - val_loss: 0.3222\n",
            "Epoch 3/10\n",
            "\u001b[1m25/25\u001b[0m \u001b[32m━━━━━━━━━━━━━━━━━━━━\u001b[0m\u001b[37m\u001b[0m \u001b[1m0s\u001b[0m 11ms/step - accuracy: 0.9290 - loss: 0.3110 - val_accuracy: 0.9350 - val_loss: 0.2700\n",
            "Epoch 4/10\n",
            "\u001b[1m25/25\u001b[0m \u001b[32m━━━━━━━━━━━━━━━━━━━━\u001b[0m\u001b[37m\u001b[0m \u001b[1m1s\u001b[0m 9ms/step - accuracy: 0.9290 - loss: 0.2802 - val_accuracy: 0.9350 - val_loss: 0.2627\n",
            "Epoch 5/10\n",
            "\u001b[1m25/25\u001b[0m \u001b[32m━━━━━━━━━━━━━━━━━━━━\u001b[0m\u001b[37m\u001b[0m \u001b[1m0s\u001b[0m 9ms/step - accuracy: 0.9290 - loss: 0.2732 - val_accuracy: 0.9350 - val_loss: 0.2566\n",
            "Epoch 6/10\n",
            "\u001b[1m25/25\u001b[0m \u001b[32m━━━━━━━━━━━━━━━━━━━━\u001b[0m\u001b[37m\u001b[0m \u001b[1m0s\u001b[0m 5ms/step - accuracy: 0.9290 - loss: 0.2664 - val_accuracy: 0.9350 - val_loss: 0.2489\n",
            "Epoch 7/10\n",
            "\u001b[1m25/25\u001b[0m \u001b[32m━━━━━━━━━━━━━━━━━━━━\u001b[0m\u001b[37m\u001b[0m \u001b[1m0s\u001b[0m 5ms/step - accuracy: 0.9290 - loss: 0.2584 - val_accuracy: 0.9350 - val_loss: 0.2412\n",
            "Epoch 8/10\n",
            "\u001b[1m25/25\u001b[0m \u001b[32m━━━━━━━━━━━━━━━━━━━━\u001b[0m\u001b[37m\u001b[0m \u001b[1m0s\u001b[0m 5ms/step - accuracy: 0.9290 - loss: 0.2503 - val_accuracy: 0.9350 - val_loss: 0.2331\n",
            "Epoch 9/10\n",
            "\u001b[1m25/25\u001b[0m \u001b[32m━━━━━━━━━━━━━━━━━━━━\u001b[0m\u001b[37m\u001b[0m \u001b[1m0s\u001b[0m 5ms/step - accuracy: 0.9290 - loss: 0.2421 - val_accuracy: 0.9350 - val_loss: 0.2254\n",
            "Epoch 10/10\n",
            "\u001b[1m25/25\u001b[0m \u001b[32m━━━━━━━━━━━━━━━━━━━━\u001b[0m\u001b[37m\u001b[0m \u001b[1m0s\u001b[0m 5ms/step - accuracy: 0.9290 - loss: 0.2340 - val_accuracy: 0.9350 - val_loss: 0.2179\n"
          ]
        },
        {
          "output_type": "stream",
          "name": "stderr",
          "text": [
            "WARNING:absl:You are saving your model as an HDF5 file via `model.save()` or `keras.saving.save_model(model)`. This file format is considered legacy. We recommend using instead the native Keras format, e.g. `model.save('my_model.keras')` or `keras.saving.save_model(model, 'my_model.keras')`. \n"
          ]
        },
        {
          "output_type": "stream",
          "name": "stdout",
          "text": [
            "Model saved successfully.\n"
          ]
        },
        {
          "output_type": "stream",
          "name": "stderr",
          "text": [
            "WARNING:absl:Compiled the loaded model, but the compiled metrics have yet to be built. `model.compile_metrics` will be empty until you train or evaluate the model.\n"
          ]
        },
        {
          "output_type": "stream",
          "name": "stdout",
          "text": [
            "Full loaded model: 90.00%\n"
          ]
        },
        {
          "output_type": "stream",
          "name": "stderr",
          "text": [
            "/usr/local/lib/python3.11/dist-packages/keras/src/layers/core/dense.py:87: UserWarning: Do not pass an `input_shape`/`input_dim` argument to a layer. When using Sequential models, prefer using an `Input(shape)` object as the first layer in the model instead.\n",
            "  super().__init__(activity_regularizer=activity_regularizer, **kwargs)\n",
            "/usr/local/lib/python3.11/dist-packages/keras/src/saving/saving_lib.py:757: UserWarning: Skipping variable loading for optimizer 'adam', because it has 2 variables whereas the saved optimizer has 14 variables. \n",
            "  saveable.load_own_variables(weights_store.get(inner_path))\n"
          ]
        },
        {
          "output_type": "stream",
          "name": "stdout",
          "text": [
            "Model with reloaded weights: 90.00%\n"
          ]
        }
      ],
      "source": [
        "import numpy as np\n",
        "import tensorflow as tf\n",
        "from tensorflow import keras\n",
        "\n",
        "# Step 2: Set random seed for reproducibility\n",
        "np.random.seed(42)\n",
        "tf.random.set_seed(42)\n",
        "\n",
        "# Step 3: Generating baseball pitch data\n",
        "def generate_baseball_data(samples):\n",
        "    x = np.random.rand(samples, 1)  # Horizontal location of my pitch\n",
        "    y = np.random.rand(samples, 1)  # Vertical location of my pitch\n",
        "    # Define the \"strike zone\" in the middle of the plate\n",
        "    labels = ((x >= 0.4) & (x <= 0.8) & (y >= 0.5) & (y <= 0.7)).astype(int)\n",
        "    data = np.hstack((x, y))\n",
        "    return data, labels\n",
        "\n",
        "# Creating the training and testing datasets\n",
        "x_train, y_train = generate_baseball_data(1000)\n",
        "x_test, y_test = generate_baseball_data(50)\n",
        "\n",
        "# Step 4: Defining my Neural Network Model\n",
        "def create_model():\n",
        "    model = keras.Sequential([\n",
        "        keras.layers.Dense(64, activation='relu', input_shape=(2,)),\n",
        "        keras.layers.Dense(64, activation='relu'),\n",
        "        keras.layers.Dense(1, activation='sigmoid')\n",
        "    ])\n",
        "    model.compile(optimizer='adam', loss='binary_crossentropy', metrics=['accuracy'])\n",
        "    return model\n",
        "\n",
        "# Step 5: Create and train the model\n",
        "model = create_model()\n",
        "model.fit(x_train, y_train, epochs=10, validation_split=0.2, verbose=1)\n",
        "\n",
        "# Step 6: Save the model\n",
        "model.save('baseball_model_full.h5')\n",
        "model.save_weights('baseball_model.weights.h5')\n",
        "print(\"Model saved successfully.\")\n",
        "\n",
        "# Step 7A: Reload full model and evaluate on test data\n",
        "loaded_model = keras.models.load_model('baseball_model_full.h5')\n",
        "loss_full, accuracy_full = loaded_model.evaluate(x_test, y_test, verbose=0)\n",
        "print(f\"Full loaded model: {accuracy_full:.2%}\")\n",
        "\n",
        "# Step 7B: Rebuild architecture, load weights, and evaluate\n",
        "new_model = create_model()\n",
        "new_model.load_weights('baseball_model.weights.h5')\n",
        "loss_weights, accuracy_weights = new_model.evaluate(x_test, y_test, verbose=0)\n",
        "print(f\"Model with reloaded weights: {accuracy_weights:.2%}\")\n"
      ]
    }
  ]
}
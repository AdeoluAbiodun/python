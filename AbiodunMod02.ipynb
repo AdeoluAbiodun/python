{
  "cells": [
    {
      "cell_type": "markdown",
      "metadata": {
        "id": "uKXWZ1o5nDpr"
      },
      "source": [
        "# Home Loan Approval Prediction with TensorFlow in Google Colab\n",
        "\n",
        "This notebook demonstrates how to load and preprocess a sample home loan dataset, build and train a neural network model using TensorFlow (with regularization techniques), and evaluate its performance by making predictions."
      ],
      "id": "uKXWZ1o5nDpr"
    },
    {
      "cell_type": "markdown",
      "metadata": {
        "id": "v6yRc59rnDpt"
      },
      "source": [
        "## Dataset Description\n",
        "\n",
        "The sample home loan dataset contains the following attributes:\n",
        "- **LoanAmount:** Requested loan amount in USD\n",
        "- **InterestRate:** Loan's interest rate\n",
        "- **LoanTerm:** Duration of the loan in years\n",
        "- **CreditScore:** Applicant's credit score\n",
        "- **AnnualIncome:** Applicant's annual income in USD\n",
        "- **PropertyValue:** Estimated property value\n",
        "- **EmploymentStatus:** Employment status (e.g., Employed, Self-employed, Unemployed)\n",
        "- **LoanPurpose:** Purpose of the loan (e.g., Purchase, Refinance)\n",
        "- **ApprovalStatus:** Target variable (0 = Rejected, 1 = Approved)"
      ],
      "id": "v6yRc59rnDpt"
    },
    {
      "cell_type": "code",
      "execution_count": 24,
      "metadata": {
        "id": "1w7D2TphnDpu",
        "colab": {
          "base_uri": "https://localhost:8080/"
        },
        "outputId": "93354f52-841c-4245-9faa-6a6f948e5016"
      },
      "outputs": [
        {
          "output_type": "stream",
          "name": "stdout",
          "text": [
            "TensorFlow version: 2.18.0\n"
          ]
        }
      ],
      "source": [
        "# Import necessary libraries\n",
        "import pandas as pd\n",
        "import numpy as np\n",
        "import tensorflow as tf\n",
        "from tensorflow.keras.models import Sequential\n",
        "from tensorflow.keras.layers import Dense, Dropout\n",
        "from tensorflow.keras.callbacks import EarlyStopping\n",
        "from tensorflow.keras import regularizers\n",
        "from sklearn.model_selection import train_test_split\n",
        "from sklearn.preprocessing import MinMaxScaler, OneHotEncoder\n",
        "from sklearn.compose import ColumnTransformer\n",
        "from sklearn.metrics import accuracy_score\n",
        "\n",
        "print(\"TensorFlow version:\", tf.__version__)"
      ],
      "id": "1w7D2TphnDpu"
    },
    {
      "cell_type": "markdown",
      "metadata": {
        "id": "Im7UJ6f-nDpw"
      },
      "source": [
        "## 1. Data Loading and Pre-processing\n",
        "\n",
        "For demonstration purposes, we create a sample dataset. In a real assignment, you would load the data from a CSV file."
      ],
      "id": "Im7UJ6f-nDpw"
    },
    {
      "cell_type": "code",
      "execution_count": 25,
      "metadata": {
        "id": "mePvnQUrnDpw",
        "colab": {
          "base_uri": "https://localhost:8080/",
          "height": 206
        },
        "outputId": "1f7a0b3c-e5a8-4e18-d53a-11e6d05a2104"
      },
      "outputs": [
        {
          "output_type": "execute_result",
          "data": {
            "text/plain": [
              "   LoanAmount  InterestRate  LoanTerm  CreditScore  AnnualIncome  \\\n",
              "0      200000           3.5        30          700         85000   \n",
              "1      150000           4.0        15          680         75000   \n",
              "2      250000           3.8        30          720         95000   \n",
              "3      180000           4.2        20          690         80000   \n",
              "4      220000           3.9        30          710         90000   \n",
              "\n",
              "   PropertyValue EmploymentStatus LoanPurpose  ApprovalStatus  \n",
              "0         250000         Employed    Purchase               1  \n",
              "1         200000    Self-employed   Refinance               0  \n",
              "2         270000         Employed    Purchase               1  \n",
              "3         230000         Employed    Purchase               0  \n",
              "4         260000    Self-employed   Refinance               1  "
            ],
            "text/html": [
              "\n",
              "  <div id=\"df-59a231ae-d7ab-4da6-84a5-e4493519f290\" class=\"colab-df-container\">\n",
              "    <div>\n",
              "<style scoped>\n",
              "    .dataframe tbody tr th:only-of-type {\n",
              "        vertical-align: middle;\n",
              "    }\n",
              "\n",
              "    .dataframe tbody tr th {\n",
              "        vertical-align: top;\n",
              "    }\n",
              "\n",
              "    .dataframe thead th {\n",
              "        text-align: right;\n",
              "    }\n",
              "</style>\n",
              "<table border=\"1\" class=\"dataframe\">\n",
              "  <thead>\n",
              "    <tr style=\"text-align: right;\">\n",
              "      <th></th>\n",
              "      <th>LoanAmount</th>\n",
              "      <th>InterestRate</th>\n",
              "      <th>LoanTerm</th>\n",
              "      <th>CreditScore</th>\n",
              "      <th>AnnualIncome</th>\n",
              "      <th>PropertyValue</th>\n",
              "      <th>EmploymentStatus</th>\n",
              "      <th>LoanPurpose</th>\n",
              "      <th>ApprovalStatus</th>\n",
              "    </tr>\n",
              "  </thead>\n",
              "  <tbody>\n",
              "    <tr>\n",
              "      <th>0</th>\n",
              "      <td>200000</td>\n",
              "      <td>3.5</td>\n",
              "      <td>30</td>\n",
              "      <td>700</td>\n",
              "      <td>85000</td>\n",
              "      <td>250000</td>\n",
              "      <td>Employed</td>\n",
              "      <td>Purchase</td>\n",
              "      <td>1</td>\n",
              "    </tr>\n",
              "    <tr>\n",
              "      <th>1</th>\n",
              "      <td>150000</td>\n",
              "      <td>4.0</td>\n",
              "      <td>15</td>\n",
              "      <td>680</td>\n",
              "      <td>75000</td>\n",
              "      <td>200000</td>\n",
              "      <td>Self-employed</td>\n",
              "      <td>Refinance</td>\n",
              "      <td>0</td>\n",
              "    </tr>\n",
              "    <tr>\n",
              "      <th>2</th>\n",
              "      <td>250000</td>\n",
              "      <td>3.8</td>\n",
              "      <td>30</td>\n",
              "      <td>720</td>\n",
              "      <td>95000</td>\n",
              "      <td>270000</td>\n",
              "      <td>Employed</td>\n",
              "      <td>Purchase</td>\n",
              "      <td>1</td>\n",
              "    </tr>\n",
              "    <tr>\n",
              "      <th>3</th>\n",
              "      <td>180000</td>\n",
              "      <td>4.2</td>\n",
              "      <td>20</td>\n",
              "      <td>690</td>\n",
              "      <td>80000</td>\n",
              "      <td>230000</td>\n",
              "      <td>Employed</td>\n",
              "      <td>Purchase</td>\n",
              "      <td>0</td>\n",
              "    </tr>\n",
              "    <tr>\n",
              "      <th>4</th>\n",
              "      <td>220000</td>\n",
              "      <td>3.9</td>\n",
              "      <td>30</td>\n",
              "      <td>710</td>\n",
              "      <td>90000</td>\n",
              "      <td>260000</td>\n",
              "      <td>Self-employed</td>\n",
              "      <td>Refinance</td>\n",
              "      <td>1</td>\n",
              "    </tr>\n",
              "  </tbody>\n",
              "</table>\n",
              "</div>\n",
              "    <div class=\"colab-df-buttons\">\n",
              "\n",
              "  <div class=\"colab-df-container\">\n",
              "    <button class=\"colab-df-convert\" onclick=\"convertToInteractive('df-59a231ae-d7ab-4da6-84a5-e4493519f290')\"\n",
              "            title=\"Convert this dataframe to an interactive table.\"\n",
              "            style=\"display:none;\">\n",
              "\n",
              "  <svg xmlns=\"http://www.w3.org/2000/svg\" height=\"24px\" viewBox=\"0 -960 960 960\">\n",
              "    <path d=\"M120-120v-720h720v720H120Zm60-500h600v-160H180v160Zm220 220h160v-160H400v160Zm0 220h160v-160H400v160ZM180-400h160v-160H180v160Zm440 0h160v-160H620v160ZM180-180h160v-160H180v160Zm440 0h160v-160H620v160Z\"/>\n",
              "  </svg>\n",
              "    </button>\n",
              "\n",
              "  <style>\n",
              "    .colab-df-container {\n",
              "      display:flex;\n",
              "      gap: 12px;\n",
              "    }\n",
              "\n",
              "    .colab-df-convert {\n",
              "      background-color: #E8F0FE;\n",
              "      border: none;\n",
              "      border-radius: 50%;\n",
              "      cursor: pointer;\n",
              "      display: none;\n",
              "      fill: #1967D2;\n",
              "      height: 32px;\n",
              "      padding: 0 0 0 0;\n",
              "      width: 32px;\n",
              "    }\n",
              "\n",
              "    .colab-df-convert:hover {\n",
              "      background-color: #E2EBFA;\n",
              "      box-shadow: 0px 1px 2px rgba(60, 64, 67, 0.3), 0px 1px 3px 1px rgba(60, 64, 67, 0.15);\n",
              "      fill: #174EA6;\n",
              "    }\n",
              "\n",
              "    .colab-df-buttons div {\n",
              "      margin-bottom: 4px;\n",
              "    }\n",
              "\n",
              "    [theme=dark] .colab-df-convert {\n",
              "      background-color: #3B4455;\n",
              "      fill: #D2E3FC;\n",
              "    }\n",
              "\n",
              "    [theme=dark] .colab-df-convert:hover {\n",
              "      background-color: #434B5C;\n",
              "      box-shadow: 0px 1px 3px 1px rgba(0, 0, 0, 0.15);\n",
              "      filter: drop-shadow(0px 1px 2px rgba(0, 0, 0, 0.3));\n",
              "      fill: #FFFFFF;\n",
              "    }\n",
              "  </style>\n",
              "\n",
              "    <script>\n",
              "      const buttonEl =\n",
              "        document.querySelector('#df-59a231ae-d7ab-4da6-84a5-e4493519f290 button.colab-df-convert');\n",
              "      buttonEl.style.display =\n",
              "        google.colab.kernel.accessAllowed ? 'block' : 'none';\n",
              "\n",
              "      async function convertToInteractive(key) {\n",
              "        const element = document.querySelector('#df-59a231ae-d7ab-4da6-84a5-e4493519f290');\n",
              "        const dataTable =\n",
              "          await google.colab.kernel.invokeFunction('convertToInteractive',\n",
              "                                                    [key], {});\n",
              "        if (!dataTable) return;\n",
              "\n",
              "        const docLinkHtml = 'Like what you see? Visit the ' +\n",
              "          '<a target=\"_blank\" href=https://colab.research.google.com/notebooks/data_table.ipynb>data table notebook</a>'\n",
              "          + ' to learn more about interactive tables.';\n",
              "        element.innerHTML = '';\n",
              "        dataTable['output_type'] = 'display_data';\n",
              "        await google.colab.output.renderOutput(dataTable, element);\n",
              "        const docLink = document.createElement('div');\n",
              "        docLink.innerHTML = docLinkHtml;\n",
              "        element.appendChild(docLink);\n",
              "      }\n",
              "    </script>\n",
              "  </div>\n",
              "\n",
              "\n",
              "    <div id=\"df-d8377397-d25e-4eee-8a18-7516cbf3cc48\">\n",
              "      <button class=\"colab-df-quickchart\" onclick=\"quickchart('df-d8377397-d25e-4eee-8a18-7516cbf3cc48')\"\n",
              "                title=\"Suggest charts\"\n",
              "                style=\"display:none;\">\n",
              "\n",
              "<svg xmlns=\"http://www.w3.org/2000/svg\" height=\"24px\"viewBox=\"0 0 24 24\"\n",
              "     width=\"24px\">\n",
              "    <g>\n",
              "        <path d=\"M19 3H5c-1.1 0-2 .9-2 2v14c0 1.1.9 2 2 2h14c1.1 0 2-.9 2-2V5c0-1.1-.9-2-2-2zM9 17H7v-7h2v7zm4 0h-2V7h2v10zm4 0h-2v-4h2v4z\"/>\n",
              "    </g>\n",
              "</svg>\n",
              "      </button>\n",
              "\n",
              "<style>\n",
              "  .colab-df-quickchart {\n",
              "      --bg-color: #E8F0FE;\n",
              "      --fill-color: #1967D2;\n",
              "      --hover-bg-color: #E2EBFA;\n",
              "      --hover-fill-color: #174EA6;\n",
              "      --disabled-fill-color: #AAA;\n",
              "      --disabled-bg-color: #DDD;\n",
              "  }\n",
              "\n",
              "  [theme=dark] .colab-df-quickchart {\n",
              "      --bg-color: #3B4455;\n",
              "      --fill-color: #D2E3FC;\n",
              "      --hover-bg-color: #434B5C;\n",
              "      --hover-fill-color: #FFFFFF;\n",
              "      --disabled-bg-color: #3B4455;\n",
              "      --disabled-fill-color: #666;\n",
              "  }\n",
              "\n",
              "  .colab-df-quickchart {\n",
              "    background-color: var(--bg-color);\n",
              "    border: none;\n",
              "    border-radius: 50%;\n",
              "    cursor: pointer;\n",
              "    display: none;\n",
              "    fill: var(--fill-color);\n",
              "    height: 32px;\n",
              "    padding: 0;\n",
              "    width: 32px;\n",
              "  }\n",
              "\n",
              "  .colab-df-quickchart:hover {\n",
              "    background-color: var(--hover-bg-color);\n",
              "    box-shadow: 0 1px 2px rgba(60, 64, 67, 0.3), 0 1px 3px 1px rgba(60, 64, 67, 0.15);\n",
              "    fill: var(--button-hover-fill-color);\n",
              "  }\n",
              "\n",
              "  .colab-df-quickchart-complete:disabled,\n",
              "  .colab-df-quickchart-complete:disabled:hover {\n",
              "    background-color: var(--disabled-bg-color);\n",
              "    fill: var(--disabled-fill-color);\n",
              "    box-shadow: none;\n",
              "  }\n",
              "\n",
              "  .colab-df-spinner {\n",
              "    border: 2px solid var(--fill-color);\n",
              "    border-color: transparent;\n",
              "    border-bottom-color: var(--fill-color);\n",
              "    animation:\n",
              "      spin 1s steps(1) infinite;\n",
              "  }\n",
              "\n",
              "  @keyframes spin {\n",
              "    0% {\n",
              "      border-color: transparent;\n",
              "      border-bottom-color: var(--fill-color);\n",
              "      border-left-color: var(--fill-color);\n",
              "    }\n",
              "    20% {\n",
              "      border-color: transparent;\n",
              "      border-left-color: var(--fill-color);\n",
              "      border-top-color: var(--fill-color);\n",
              "    }\n",
              "    30% {\n",
              "      border-color: transparent;\n",
              "      border-left-color: var(--fill-color);\n",
              "      border-top-color: var(--fill-color);\n",
              "      border-right-color: var(--fill-color);\n",
              "    }\n",
              "    40% {\n",
              "      border-color: transparent;\n",
              "      border-right-color: var(--fill-color);\n",
              "      border-top-color: var(--fill-color);\n",
              "    }\n",
              "    60% {\n",
              "      border-color: transparent;\n",
              "      border-right-color: var(--fill-color);\n",
              "    }\n",
              "    80% {\n",
              "      border-color: transparent;\n",
              "      border-right-color: var(--fill-color);\n",
              "      border-bottom-color: var(--fill-color);\n",
              "    }\n",
              "    90% {\n",
              "      border-color: transparent;\n",
              "      border-bottom-color: var(--fill-color);\n",
              "    }\n",
              "  }\n",
              "</style>\n",
              "\n",
              "      <script>\n",
              "        async function quickchart(key) {\n",
              "          const quickchartButtonEl =\n",
              "            document.querySelector('#' + key + ' button');\n",
              "          quickchartButtonEl.disabled = true;  // To prevent multiple clicks.\n",
              "          quickchartButtonEl.classList.add('colab-df-spinner');\n",
              "          try {\n",
              "            const charts = await google.colab.kernel.invokeFunction(\n",
              "                'suggestCharts', [key], {});\n",
              "          } catch (error) {\n",
              "            console.error('Error during call to suggestCharts:', error);\n",
              "          }\n",
              "          quickchartButtonEl.classList.remove('colab-df-spinner');\n",
              "          quickchartButtonEl.classList.add('colab-df-quickchart-complete');\n",
              "        }\n",
              "        (() => {\n",
              "          let quickchartButtonEl =\n",
              "            document.querySelector('#df-d8377397-d25e-4eee-8a18-7516cbf3cc48 button');\n",
              "          quickchartButtonEl.style.display =\n",
              "            google.colab.kernel.accessAllowed ? 'block' : 'none';\n",
              "        })();\n",
              "      </script>\n",
              "    </div>\n",
              "\n",
              "    </div>\n",
              "  </div>\n"
            ],
            "application/vnd.google.colaboratory.intrinsic+json": {
              "type": "dataframe",
              "variable_name": "df",
              "summary": "{\n  \"name\": \"df\",\n  \"rows\": 10,\n  \"fields\": [\n    {\n      \"column\": \"LoanAmount\",\n      \"properties\": {\n        \"dtype\": \"number\",\n        \"std\": 35103,\n        \"min\": 130000,\n        \"max\": 250000,\n        \"num_unique_values\": 10,\n        \"samples\": [\n          160000,\n          150000,\n          130000\n        ],\n        \"semantic_type\": \"\",\n        \"description\": \"\"\n      }\n    },\n    {\n      \"column\": \"InterestRate\",\n      \"properties\": {\n        \"dtype\": \"number\",\n        \"std\": 0.2581988897471611,\n        \"min\": 3.5,\n        \"max\": 4.3,\n        \"num_unique_values\": 9,\n        \"samples\": [\n          3.6,\n          4.0,\n          4.1\n        ],\n        \"semantic_type\": \"\",\n        \"description\": \"\"\n      }\n    },\n    {\n      \"column\": \"LoanTerm\",\n      \"properties\": {\n        \"dtype\": \"number\",\n        \"std\": 6,\n        \"min\": 15,\n        \"max\": 30,\n        \"num_unique_values\": 3,\n        \"samples\": [\n          30,\n          15,\n          20\n        ],\n        \"semantic_type\": \"\",\n        \"description\": \"\"\n      }\n    },\n    {\n      \"column\": \"CreditScore\",\n      \"properties\": {\n        \"dtype\": \"number\",\n        \"std\": 16,\n        \"min\": 670,\n        \"max\": 720,\n        \"num_unique_values\": 9,\n        \"samples\": [\n          695,\n          680,\n          670\n        ],\n        \"semantic_type\": \"\",\n        \"description\": \"\"\n      }\n    },\n    {\n      \"column\": \"AnnualIncome\",\n      \"properties\": {\n        \"dtype\": \"number\",\n        \"std\": 7877,\n        \"min\": 70000,\n        \"max\": 95000,\n        \"num_unique_values\": 10,\n        \"samples\": [\n          73000,\n          75000,\n          70000\n        ],\n        \"semantic_type\": \"\",\n        \"description\": \"\"\n      }\n    },\n    {\n      \"column\": \"PropertyValue\",\n      \"properties\": {\n        \"dtype\": \"number\",\n        \"std\": 26791,\n        \"min\": 190000,\n        \"max\": 270000,\n        \"num_unique_values\": 10,\n        \"samples\": [\n          210000,\n          200000,\n          190000\n        ],\n        \"semantic_type\": \"\",\n        \"description\": \"\"\n      }\n    },\n    {\n      \"column\": \"EmploymentStatus\",\n      \"properties\": {\n        \"dtype\": \"category\",\n        \"num_unique_values\": 3,\n        \"samples\": [\n          \"Employed\",\n          \"Self-employed\",\n          \"Unemployed\"\n        ],\n        \"semantic_type\": \"\",\n        \"description\": \"\"\n      }\n    },\n    {\n      \"column\": \"LoanPurpose\",\n      \"properties\": {\n        \"dtype\": \"category\",\n        \"num_unique_values\": 2,\n        \"samples\": [\n          \"Refinance\",\n          \"Purchase\"\n        ],\n        \"semantic_type\": \"\",\n        \"description\": \"\"\n      }\n    },\n    {\n      \"column\": \"ApprovalStatus\",\n      \"properties\": {\n        \"dtype\": \"number\",\n        \"std\": 0,\n        \"min\": 0,\n        \"max\": 1,\n        \"num_unique_values\": 2,\n        \"samples\": [\n          0,\n          1\n        ],\n        \"semantic_type\": \"\",\n        \"description\": \"\"\n      }\n    }\n  ]\n}"
            }
          },
          "metadata": {},
          "execution_count": 25
        }
      ],
      "source": [
        "# Create a sample home loan dataset\n",
        "data = {\n",
        "    'LoanAmount': [200000, 150000, 250000, 180000, 220000, 130000, 175000, 205000, 160000, 190000],\n",
        "    'InterestRate': [3.5, 4.0, 3.8, 4.2, 3.9, 4.1, 3.7, 3.6, 4.3, 3.9],\n",
        "    'LoanTerm': [30, 15, 30, 20, 30, 15, 20, 30, 15, 20],\n",
        "    'CreditScore': [700, 680, 720, 690, 710, 670, 705, 695, 680, 715],\n",
        "    'AnnualIncome': [85000, 75000, 95000, 80000, 90000, 70000, 78000, 87000, 73000, 82000],\n",
        "    'PropertyValue': [250000, 200000, 270000, 230000, 260000, 190000, 240000, 255000, 210000, 225000],\n",
        "    'EmploymentStatus': ['Employed', 'Self-employed', 'Employed', 'Employed', 'Self-employed', 'Unemployed', 'Employed', 'Employed', 'Self-employed', 'Employed'],\n",
        "    'LoanPurpose': ['Purchase', 'Refinance', 'Purchase', 'Purchase', 'Refinance', 'Purchase', 'Purchase', 'Refinance', 'Purchase', 'Refinance'],\n",
        "    'ApprovalStatus': [1, 0, 1, 0, 1, 0, 1, 1, 0, 1]\n",
        "}\n",
        "\n",
        "df = pd.DataFrame(data)\n",
        "df.head()"
      ],
      "id": "mePvnQUrnDpw"
    },
    {
      "cell_type": "markdown",
      "metadata": {
        "id": "OL1mBvm8nDpw"
      },
      "source": [
        "### Preprocessing\n",
        "\n",
        "We need to preprocess our data. This includes scaling numerical features and encoding categorical variables. We then split our data into features (`X`) and our target (`ApprovalStatus`)."
      ],
      "id": "OL1mBvm8nDpw"
    },
    {
      "cell_type": "code",
      "execution_count": 26,
      "metadata": {
        "id": "Kh7hklvEnDpx",
        "colab": {
          "base_uri": "https://localhost:8080/"
        },
        "outputId": "ad1471e9-24eb-4282-bffc-604c5de34f22"
      },
      "outputs": [
        {
          "output_type": "stream",
          "name": "stdout",
          "text": [
            "Training data shape: (8, 11)\n",
            "Test data shape: (2, 11)\n"
          ]
        }
      ],
      "source": [
        "# Define numerical and categorical columns\n",
        "numerical_cols = ['LoanAmount', 'InterestRate', 'LoanTerm', 'CreditScore', 'AnnualIncome', 'PropertyValue']\n",
        "categorical_cols = ['EmploymentStatus', 'LoanPurpose']\n",
        "\n",
        "# Create a ColumnTransformer for preprocessing\n",
        "preprocessor = ColumnTransformer(\n",
        "    transformers=[\n",
        "        ('num', MinMaxScaler(), numerical_cols),\n",
        "        ('cat', OneHotEncoder(), categorical_cols)\n",
        "    ]\n",
        ")\n",
        "\n",
        "# Separate features and target\n",
        "X = df.drop('ApprovalStatus', axis=1)\n",
        "y = df['ApprovalStatus']\n",
        "\n",
        "# Apply the preprocessing pipeline\n",
        "X_processed = preprocessor.fit_transform(X)\n",
        "\n",
        "# Split the data into training and testing sets\n",
        "X_train, X_test, y_train, y_test = train_test_split(X_processed, y, test_size=0.2, random_state=42)\n",
        "\n",
        "print('Training data shape:', X_train.shape)\n",
        "print('Test data shape:', X_test.shape)"
      ],
      "id": "Kh7hklvEnDpx"
    },
    {
      "cell_type": "markdown",
      "metadata": {
        "id": "oe7WSNg1nDpx"
      },
      "source": [
        "## 2. Model Building\n",
        "\n",
        "Now, we'll build a multi-layer neural network model using TensorFlow's Keras API. Our model will include a hidden layer with 16 neurons, incorporate L2 regularization (weight decay), and use a dropout layer to reduce overfitting."
      ],
      "id": "oe7WSNg1nDpx"
    },
    {
      "cell_type": "code",
      "execution_count": 27,
      "metadata": {
        "id": "8jJFLpKnnDpx",
        "colab": {
          "base_uri": "https://localhost:8080/",
          "height": 289
        },
        "outputId": "2d0101fe-a58c-4e01-c70a-0f2c4c626e1e"
      },
      "outputs": [
        {
          "output_type": "stream",
          "name": "stderr",
          "text": [
            "/usr/local/lib/python3.11/dist-packages/keras/src/layers/core/dense.py:87: UserWarning: Do not pass an `input_shape`/`input_dim` argument to a layer. When using Sequential models, prefer using an `Input(shape)` object as the first layer in the model instead.\n",
            "  super().__init__(activity_regularizer=activity_regularizer, **kwargs)\n"
          ]
        },
        {
          "output_type": "display_data",
          "data": {
            "text/plain": [
              "\u001b[1mModel: \"sequential_8\"\u001b[0m\n"
            ],
            "text/html": [
              "<pre style=\"white-space:pre;overflow-x:auto;line-height:normal;font-family:Menlo,'DejaVu Sans Mono',consolas,'Courier New',monospace\"><span style=\"font-weight: bold\">Model: \"sequential_8\"</span>\n",
              "</pre>\n"
            ]
          },
          "metadata": {}
        },
        {
          "output_type": "display_data",
          "data": {
            "text/plain": [
              "┏━━━━━━━━━━━━━━━━━━━━━━━━━━━━━━━━━┳━━━━━━━━━━━━━━━━━━━━━━━━┳━━━━━━━━━━━━━━━┓\n",
              "┃\u001b[1m \u001b[0m\u001b[1mLayer (type)                   \u001b[0m\u001b[1m \u001b[0m┃\u001b[1m \u001b[0m\u001b[1mOutput Shape          \u001b[0m\u001b[1m \u001b[0m┃\u001b[1m \u001b[0m\u001b[1m      Param #\u001b[0m\u001b[1m \u001b[0m┃\n",
              "┡━━━━━━━━━━━━━━━━━━━━━━━━━━━━━━━━━╇━━━━━━━━━━━━━━━━━━━━━━━━╇━━━━━━━━━━━━━━━┩\n",
              "│ dense_16 (\u001b[38;5;33mDense\u001b[0m)                │ (\u001b[38;5;45mNone\u001b[0m, \u001b[38;5;34m16\u001b[0m)             │           \u001b[38;5;34m192\u001b[0m │\n",
              "├─────────────────────────────────┼────────────────────────┼───────────────┤\n",
              "│ dropout_8 (\u001b[38;5;33mDropout\u001b[0m)             │ (\u001b[38;5;45mNone\u001b[0m, \u001b[38;5;34m16\u001b[0m)             │             \u001b[38;5;34m0\u001b[0m │\n",
              "├─────────────────────────────────┼────────────────────────┼───────────────┤\n",
              "│ dense_17 (\u001b[38;5;33mDense\u001b[0m)                │ (\u001b[38;5;45mNone\u001b[0m, \u001b[38;5;34m1\u001b[0m)              │            \u001b[38;5;34m17\u001b[0m │\n",
              "└─────────────────────────────────┴────────────────────────┴───────────────┘\n"
            ],
            "text/html": [
              "<pre style=\"white-space:pre;overflow-x:auto;line-height:normal;font-family:Menlo,'DejaVu Sans Mono',consolas,'Courier New',monospace\">┏━━━━━━━━━━━━━━━━━━━━━━━━━━━━━━━━━┳━━━━━━━━━━━━━━━━━━━━━━━━┳━━━━━━━━━━━━━━━┓\n",
              "┃<span style=\"font-weight: bold\"> Layer (type)                    </span>┃<span style=\"font-weight: bold\"> Output Shape           </span>┃<span style=\"font-weight: bold\">       Param # </span>┃\n",
              "┡━━━━━━━━━━━━━━━━━━━━━━━━━━━━━━━━━╇━━━━━━━━━━━━━━━━━━━━━━━━╇━━━━━━━━━━━━━━━┩\n",
              "│ dense_16 (<span style=\"color: #0087ff; text-decoration-color: #0087ff\">Dense</span>)                │ (<span style=\"color: #00d7ff; text-decoration-color: #00d7ff\">None</span>, <span style=\"color: #00af00; text-decoration-color: #00af00\">16</span>)             │           <span style=\"color: #00af00; text-decoration-color: #00af00\">192</span> │\n",
              "├─────────────────────────────────┼────────────────────────┼───────────────┤\n",
              "│ dropout_8 (<span style=\"color: #0087ff; text-decoration-color: #0087ff\">Dropout</span>)             │ (<span style=\"color: #00d7ff; text-decoration-color: #00d7ff\">None</span>, <span style=\"color: #00af00; text-decoration-color: #00af00\">16</span>)             │             <span style=\"color: #00af00; text-decoration-color: #00af00\">0</span> │\n",
              "├─────────────────────────────────┼────────────────────────┼───────────────┤\n",
              "│ dense_17 (<span style=\"color: #0087ff; text-decoration-color: #0087ff\">Dense</span>)                │ (<span style=\"color: #00d7ff; text-decoration-color: #00d7ff\">None</span>, <span style=\"color: #00af00; text-decoration-color: #00af00\">1</span>)              │            <span style=\"color: #00af00; text-decoration-color: #00af00\">17</span> │\n",
              "└─────────────────────────────────┴────────────────────────┴───────────────┘\n",
              "</pre>\n"
            ]
          },
          "metadata": {}
        },
        {
          "output_type": "display_data",
          "data": {
            "text/plain": [
              "\u001b[1m Total params: \u001b[0m\u001b[38;5;34m209\u001b[0m (836.00 B)\n"
            ],
            "text/html": [
              "<pre style=\"white-space:pre;overflow-x:auto;line-height:normal;font-family:Menlo,'DejaVu Sans Mono',consolas,'Courier New',monospace\"><span style=\"font-weight: bold\"> Total params: </span><span style=\"color: #00af00; text-decoration-color: #00af00\">209</span> (836.00 B)\n",
              "</pre>\n"
            ]
          },
          "metadata": {}
        },
        {
          "output_type": "display_data",
          "data": {
            "text/plain": [
              "\u001b[1m Trainable params: \u001b[0m\u001b[38;5;34m209\u001b[0m (836.00 B)\n"
            ],
            "text/html": [
              "<pre style=\"white-space:pre;overflow-x:auto;line-height:normal;font-family:Menlo,'DejaVu Sans Mono',consolas,'Courier New',monospace\"><span style=\"font-weight: bold\"> Trainable params: </span><span style=\"color: #00af00; text-decoration-color: #00af00\">209</span> (836.00 B)\n",
              "</pre>\n"
            ]
          },
          "metadata": {}
        },
        {
          "output_type": "display_data",
          "data": {
            "text/plain": [
              "\u001b[1m Non-trainable params: \u001b[0m\u001b[38;5;34m0\u001b[0m (0.00 B)\n"
            ],
            "text/html": [
              "<pre style=\"white-space:pre;overflow-x:auto;line-height:normal;font-family:Menlo,'DejaVu Sans Mono',consolas,'Courier New',monospace\"><span style=\"font-weight: bold\"> Non-trainable params: </span><span style=\"color: #00af00; text-decoration-color: #00af00\">0</span> (0.00 B)\n",
              "</pre>\n"
            ]
          },
          "metadata": {}
        }
      ],
      "source": [
        "from tensorflow.keras import regularizers\n",
        "\n",
        "# YOUR CODE GOES HERE\n",
        "\n",
        "from tensorflow.keras.models import Sequential\n",
        "from tensorflow.keras.layers import Dense, Dropout\n",
        "\n",
        "# Define the model\n",
        "model = Sequential([\n",
        "    Dense(16, activation='relu', input_shape=(X_train.shape[1],), kernel_regularizer=regularizers.l2(0.01)),\n",
        "    Dropout(0.5),\n",
        "    Dense(1, activation='sigmoid')\n",
        "])\n",
        "\n",
        "# Display the model summary\n",
        "model.summary()\n",
        "\n",
        "model.compile(optimizer='adam', loss='binary_crossentropy', metrics=['accuracy'])\n"
      ],
      "id": "8jJFLpKnnDpx"
    },
    {
      "cell_type": "markdown",
      "metadata": {
        "id": "4plDSBgRnDpy"
      },
      "source": [
        "### Model Summary Explanation\n",
        "\n",
        "The model summary displays:\n",
        "- **Hidden Layer:** A Dense layer with 16 neurons and ReLU activation that processes the input. The layer includes L2 regularization, which adds a penalty to large weights.\n",
        "- **Dropout Layer:** This layer randomly sets 50% of the outputs to zero during each training iteration, which helps prevent the neurons from co-adapting too much.\n",
        "- **Output Layer:** A Dense layer with 1 neuron using sigmoid activation, which outputs a probability for binary classification (loan approval).\n",
        "\n",
        "The summary also shows the total number of trainable parameters, allowing you to gauge the model’s complexity."
      ],
      "id": "4plDSBgRnDpy"
    },
    {
      "cell_type": "markdown",
      "metadata": {
        "id": "0BJ7jhm9nDpz"
      },
      "source": [
        "## 3. Model Training\n",
        "\n",
        "We now train our model using early stopping, which monitors the validation loss and stops training when improvements cease, helping to avoid overfitting."
      ],
      "id": "0BJ7jhm9nDpz"
    },
    {
      "cell_type": "code",
      "execution_count": 29,
      "metadata": {
        "id": "qN8ELFQnnDpz",
        "colab": {
          "base_uri": "https://localhost:8080/"
        },
        "outputId": "c96c2f7b-9a39-460c-bde2-2672859aa52e"
      },
      "outputs": [
        {
          "output_type": "stream",
          "name": "stdout",
          "text": [
            "Epoch 1/50\n",
            "\u001b[1m1/1\u001b[0m \u001b[32m━━━━━━━━━━━━━━━━━━━━\u001b[0m\u001b[37m\u001b[0m \u001b[1m0s\u001b[0m 166ms/step - accuracy: 0.5000 - loss: 1.1010 - val_accuracy: 0.5000 - val_loss: 0.7699\n",
            "Epoch 2/50\n",
            "\u001b[1m1/1\u001b[0m \u001b[32m━━━━━━━━━━━━━━━━━━━━\u001b[0m\u001b[37m\u001b[0m \u001b[1m0s\u001b[0m 248ms/step - accuracy: 0.1667 - loss: 1.0810 - val_accuracy: 0.5000 - val_loss: 0.7701\n",
            "Epoch 3/50\n",
            "\u001b[1m1/1\u001b[0m \u001b[32m━━━━━━━━━━━━━━━━━━━━\u001b[0m\u001b[37m\u001b[0m \u001b[1m0s\u001b[0m 128ms/step - accuracy: 0.1667 - loss: 1.2972 - val_accuracy: 0.5000 - val_loss: 0.7702\n",
            "Epoch 4/50\n",
            "\u001b[1m1/1\u001b[0m \u001b[32m━━━━━━━━━━━━━━━━━━━━\u001b[0m\u001b[37m\u001b[0m \u001b[1m0s\u001b[0m 138ms/step - accuracy: 0.5000 - loss: 0.9578 - val_accuracy: 0.5000 - val_loss: 0.7704\n"
          ]
        }
      ],
      "source": [
        "# Set up EarlyStopping callback to monitor validation loss\n",
        "early_stop = EarlyStopping(monitor='val_loss', patience=3, restore_best_weights=True)\n",
        "\n",
        "# Train the model with 20% of training data used as validation\n",
        "\n",
        "# YOUR CODE GOES HERE\n",
        "history = model.fit(\n",
        "    X_train,\n",
        "    y_train,\n",
        "    validation_split=0.2,\n",
        "    epochs=50,\n",
        "    batch_size=32,\n",
        "    callbacks=[early_stop]\n",
        ")"
      ],
      "id": "qN8ELFQnnDpz"
    },
    {
      "cell_type": "markdown",
      "metadata": {
        "id": "dYUUFw9bnDpz"
      },
      "source": [
        "## 4. Making Predictions and Evaluating the Model\n",
        "\n",
        "After training, we use our model to predict approvals on the test set. We convert prediction probabilities to binary class labels by thresholding at 0.5 and then calculate the accuracy of the model."
      ],
      "id": "dYUUFw9bnDpz"
    },
    {
      "cell_type": "code",
      "execution_count": 30,
      "metadata": {
        "id": "lZt_meZ9nDp0",
        "colab": {
          "base_uri": "https://localhost:8080/"
        },
        "outputId": "e7545104-4045-4ad4-f6d4-2922eefc6ea7"
      },
      "outputs": [
        {
          "output_type": "stream",
          "name": "stdout",
          "text": [
            "\u001b[1m1/1\u001b[0m \u001b[32m━━━━━━━━━━━━━━━━━━━━\u001b[0m\u001b[37m\u001b[0m \u001b[1m0s\u001b[0m 70ms/step\n",
            "Raw Predictions:\n",
            " [[0.41258135]\n",
            " [0.31705838]]\n",
            "Binary Predictions:\n",
            " [[0]\n",
            " [0]]\n",
            "Test Accuracy: 1.0\n"
          ]
        }
      ],
      "source": [
        "# Make predictions on the test set\n",
        "predictions = model.predict(X_test)\n",
        "\n",
        "# Display raw prediction probabilities\n",
        "print(\"Raw Predictions:\\n\", predictions)\n",
        "\n",
        "# Convert probabilities to binary predictions (threshold = 0.5)\n",
        "binary_predictions = (predictions > 0.5).astype(int)\n",
        "print(\"Binary Predictions:\\n\", binary_predictions)\n",
        "\n",
        "# Calculate test accuracy\n",
        "accuracy = accuracy_score(y_test, binary_predictions)\n",
        "print(\"Test Accuracy:\", accuracy)"
      ],
      "id": "lZt_meZ9nDp0"
    },
    {
      "cell_type": "markdown",
      "metadata": {
        "id": "6OV76QznnDp0"
      },
      "source": [
        "## 5. Conclusion\n",
        "\n",
        "In this assignment, we loaded and preprocessed a sample home loan dataset, built a multi-layer neural network that incorporates regularization techniques such as dropout, weight decay, and early stopping, and evaluated its performance by calculating prediction accuracy on the test set.\n",
        "\n",
        "Submit your completed `.ipynb` file via Brightspace. Please ensure your file name includes your last name (e.g., \"Smith.ipynb\")."
      ],
      "id": "6OV76QznnDp0"
    }
  ],
  "metadata": {
    "kernelspec": {
      "display_name": "Python 3",
      "language": "python",
      "name": "python3"
    },
    "language_info": {
      "name": "python",
      "version": "3.x"
    },
    "colab": {
      "provenance": []
    }
  },
  "nbformat": 4,
  "nbformat_minor": 5
}